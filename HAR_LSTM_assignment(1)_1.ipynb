{
 "cells": [
  {
   "cell_type": "code",
   "execution_count": 1,
   "metadata": {},
   "outputs": [],
   "source": [
    "# Importing Libraries"
   ]
  },
  {
   "cell_type": "code",
   "execution_count": 2,
   "metadata": {},
   "outputs": [],
   "source": [
    "import pandas as pd\n",
    "import numpy as np"
   ]
  },
  {
   "cell_type": "code",
   "execution_count": 3,
   "metadata": {},
   "outputs": [],
   "source": [
    "# Activities are the class labels\n",
    "# It is a 6 class classification\n",
    "ACTIVITIES = {\n",
    "    0: 'WALKING',\n",
    "    1: 'WALKING_UPSTAIRS',\n",
    "    2: 'WALKING_DOWNSTAIRS',\n",
    "    3: 'SITTING',\n",
    "    4: 'STANDING',\n",
    "    5: 'LAYING',\n",
    "}\n",
    "\n",
    "# Utility function to print the confusion matrix\n",
    "def confusion_matrix(Y_true, Y_pred):\n",
    "    Y_true = pd.Series([ACTIVITIES[y] for y in np.argmax(Y_true, axis=1)])\n",
    "    Y_pred = pd.Series([ACTIVITIES[y] for y in np.argmax(Y_pred, axis=1)])\n",
    "\n",
    "    return pd.crosstab(Y_true, Y_pred, rownames=['True'], colnames=['Pred'])"
   ]
  },
  {
   "cell_type": "markdown",
   "metadata": {},
   "source": [
    "### Data"
   ]
  },
  {
   "cell_type": "code",
   "execution_count": 4,
   "metadata": {},
   "outputs": [],
   "source": [
    "# Data directory\n",
    "DATADIR = 'UCI_HAR_Dataset'"
   ]
  },
  {
   "cell_type": "code",
   "execution_count": 5,
   "metadata": {},
   "outputs": [],
   "source": [
    "# Raw data signals\n",
    "# Signals are from Accelerometer and Gyroscope\n",
    "# The signals are in x,y,z directions\n",
    "# Sensor signals are filtered to have only body acceleration\n",
    "# excluding the acceleration due to gravity\n",
    "# Triaxial acceleration from the accelerometer is total acceleration\n",
    "SIGNALS = [\n",
    "    \"body_acc_x\",\n",
    "    \"body_acc_y\",\n",
    "    \"body_acc_z\",\n",
    "    \"body_gyro_x\",\n",
    "    \"body_gyro_y\",\n",
    "    \"body_gyro_z\",\n",
    "    \"total_acc_x\",\n",
    "    \"total_acc_y\",\n",
    "    \"total_acc_z\"\n",
    "]"
   ]
  },
  {
   "cell_type": "code",
   "execution_count": 6,
   "metadata": {},
   "outputs": [],
   "source": [
    "# Utility function to read the data from csv file\n",
    "def _read_csv(filename):\n",
    "    return pd.read_csv(filename, delim_whitespace=True, header=None)\n",
    "\n",
    "# Utility function to load the load\n",
    "def load_signals(subset):\n",
    "    signals_data = []\n",
    "\n",
    "    for signal in SIGNALS:\n",
    "        filename = f'UCI_HAR_Dataset/{subset}/Inertial Signals/{signal}_{subset}.txt'\n",
    "        signals_data.append(\n",
    "            _read_csv(filename).as_matrix()\n",
    "        ) \n",
    "\n",
    "    # Transpose is used to change the dimensionality of the output,\n",
    "    # aggregating the signals by combination of sample/timestep.\n",
    "    # Resultant shape is (7352 train/2947 test samples, 128 timesteps, 9 signals)\n",
    "    return np.transpose(signals_data, (1, 2, 0))"
   ]
  },
  {
   "cell_type": "code",
   "execution_count": 7,
   "metadata": {},
   "outputs": [],
   "source": [
    "\n",
    "def load_y(subset):\n",
    "    \"\"\"\n",
    "    The objective that we are trying to predict is a integer, from 1 to 6,\n",
    "    that represents a human activity. We return a binary representation of \n",
    "    every sample objective as a 6 bits vector using One Hot Encoding\n",
    "    (https://pandas.pydata.org/pandas-docs/stable/generated/pandas.get_dummies.html)\n",
    "    \"\"\"\n",
    "    filename = f'UCI_HAR_Dataset/{subset}/y_{subset}.txt'\n",
    "    y = _read_csv(filename)[0]\n",
    "\n",
    "    return pd.get_dummies(y).as_matrix()"
   ]
  },
  {
   "cell_type": "code",
   "execution_count": 8,
   "metadata": {},
   "outputs": [],
   "source": [
    "def load_data():\n",
    "    \"\"\"\n",
    "    Obtain the dataset from multiple files.\n",
    "    Returns: X_train, X_test, y_train, y_test\n",
    "    \"\"\"\n",
    "    X_train, X_test = load_signals('train'), load_signals('test')\n",
    "    y_train, y_test = load_y('train'), load_y('test')\n",
    "\n",
    "    return X_train, X_test, y_train, y_test"
   ]
  },
  {
   "cell_type": "code",
   "execution_count": 9,
   "metadata": {},
   "outputs": [
    {
     "name": "stderr",
     "output_type": "stream",
     "text": [
      "C:\\Users\\Santosh\\Anaconda3\\lib\\site-packages\\h5py\\__init__.py:72: UserWarning: h5py is running against HDF5 1.10.2 when it was built against 1.10.3, this may cause problems\n",
      "  '{0}.{1}.{2}'.format(*version.hdf5_built_version_tuple)\n"
     ]
    }
   ],
   "source": [
    "# Importing tensorflow\n",
    "np.random.seed(42)\n",
    "import tensorflow as tf\n",
    "tf.set_random_seed(42)"
   ]
  },
  {
   "cell_type": "code",
   "execution_count": 10,
   "metadata": {},
   "outputs": [],
   "source": [
    "# Configuring a session\n",
    "session_conf = tf.ConfigProto(\n",
    "    intra_op_parallelism_threads=1,\n",
    "    inter_op_parallelism_threads=1\n",
    ")"
   ]
  },
  {
   "cell_type": "code",
   "execution_count": 11,
   "metadata": {},
   "outputs": [
    {
     "name": "stderr",
     "output_type": "stream",
     "text": [
      "Using TensorFlow backend.\n"
     ]
    }
   ],
   "source": [
    "# Import Keras\n",
    "from keras import backend as K\n",
    "sess = tf.Session(graph=tf.get_default_graph(), config=session_conf)\n",
    "K.set_session(sess)"
   ]
  },
  {
   "cell_type": "code",
   "execution_count": 12,
   "metadata": {},
   "outputs": [],
   "source": [
    "# Importing libraries\n",
    "from keras.models import Sequential\n",
    "from keras.layers import LSTM\n",
    "from keras.layers.core import Dense, Dropout"
   ]
  },
  {
   "cell_type": "code",
   "execution_count": 13,
   "metadata": {},
   "outputs": [],
   "source": [
    "# Initializing parameters\n",
    "epochs = 30\n",
    "batch_size = 16\n",
    "n_hidden = 32"
   ]
  },
  {
   "cell_type": "code",
   "execution_count": 14,
   "metadata": {},
   "outputs": [],
   "source": [
    "# Utility function to count the number of classes\n",
    "def _count_classes(y):\n",
    "    return len(set([tuple(category) for category in y]))"
   ]
  },
  {
   "cell_type": "code",
   "execution_count": 15,
   "metadata": {},
   "outputs": [
    {
     "name": "stderr",
     "output_type": "stream",
     "text": [
      "C:\\Users\\Santosh\\Anaconda3\\lib\\site-packages\\ipykernel_launcher.py:12: FutureWarning: Method .as_matrix will be removed in a future version. Use .values instead.\n",
      "  if sys.path[0] == '':\n"
     ]
    }
   ],
   "source": [
    "# Loading the train and test data\n",
    "X_train, X_test, Y_train, Y_test = load_data()"
   ]
  },
  {
   "cell_type": "code",
   "execution_count": 16,
   "metadata": {},
   "outputs": [
    {
     "name": "stdout",
     "output_type": "stream",
     "text": [
      "128\n",
      "9\n",
      "7352\n"
     ]
    }
   ],
   "source": [
    "timesteps = len(X_train[0])\n",
    "input_dim = len(X_train[0][0])\n",
    "n_classes = _count_classes(Y_train)\n",
    "\n",
    "print(timesteps)\n",
    "print(input_dim)\n",
    "print(len(X_train))"
   ]
  },
  {
   "cell_type": "markdown",
   "metadata": {},
   "source": [
    "- Defining the Architecture of LSTM"
   ]
  },
  {
   "cell_type": "code",
   "execution_count": 17,
   "metadata": {},
   "outputs": [
    {
     "name": "stdout",
     "output_type": "stream",
     "text": [
      "WARNING:tensorflow:From C:\\Users\\Santosh\\Anaconda3\\lib\\site-packages\\tensorflow\\python\\ops\\resource_variable_ops.py:435: colocate_with (from tensorflow.python.framework.ops) is deprecated and will be removed in a future version.\n",
      "Instructions for updating:\n",
      "Colocations handled automatically by placer.\n",
      "Model: \"sequential_1\"\n",
      "_________________________________________________________________\n",
      "Layer (type)                 Output Shape              Param #   \n",
      "=================================================================\n",
      "lstm_1 (LSTM)                (None, 32)                5376      \n",
      "_________________________________________________________________\n",
      "dropout_1 (Dropout)          (None, 32)                0         \n",
      "_________________________________________________________________\n",
      "dense_1 (Dense)              (None, 6)                 198       \n",
      "=================================================================\n",
      "Total params: 5,574\n",
      "Trainable params: 5,574\n",
      "Non-trainable params: 0\n",
      "_________________________________________________________________\n"
     ]
    }
   ],
   "source": [
    "# Initiliazing the sequential model\n",
    "model = Sequential()\n",
    "# Configuring the parameters\n",
    "model.add(LSTM(n_hidden, input_shape=(timesteps, input_dim)))\n",
    "# Adding a dropout layer\n",
    "model.add(Dropout(0.5))\n",
    "# Adding a dense output layer with sigmoid activation\n",
    "model.add(Dense(n_classes, activation='sigmoid'))\n",
    "model.summary()"
   ]
  },
  {
   "cell_type": "code",
   "execution_count": 18,
   "metadata": {},
   "outputs": [],
   "source": [
    "# Compiling the model\n",
    "model.compile(loss='categorical_crossentropy',\n",
    "              optimizer='rmsprop',\n",
    "              metrics=['accuracy'])"
   ]
  },
  {
   "cell_type": "code",
   "execution_count": 19,
   "metadata": {},
   "outputs": [
    {
     "name": "stdout",
     "output_type": "stream",
     "text": [
      "WARNING:tensorflow:From C:\\Users\\Santosh\\Anaconda3\\lib\\site-packages\\tensorflow\\python\\ops\\math_ops.py:3066: to_int32 (from tensorflow.python.ops.math_ops) is deprecated and will be removed in a future version.\n",
      "Instructions for updating:\n",
      "Use tf.cast instead.\n",
      "Train on 7352 samples, validate on 2947 samples\n",
      "Epoch 1/30\n",
      "7352/7352 [==============================] - 22s 3ms/step - loss: 1.2941 - accuracy: 0.4523 - val_loss: 1.1074 - val_accuracy: 0.4924\n",
      "Epoch 2/30\n",
      "7352/7352 [==============================] - 24s 3ms/step - loss: 0.9406 - accuracy: 0.5964 - val_loss: 0.8839 - val_accuracy: 0.5938\n",
      "Epoch 3/30\n",
      "7352/7352 [==============================] - 22s 3ms/step - loss: 0.7833 - accuracy: 0.6432 - val_loss: 0.7483 - val_accuracy: 0.6125\n",
      "Epoch 4/30\n",
      "7352/7352 [==============================] - 22s 3ms/step - loss: 0.6809 - accuracy: 0.6619 - val_loss: 0.7228 - val_accuracy: 0.6169\n",
      "Epoch 5/30\n",
      "7352/7352 [==============================] - 21s 3ms/step - loss: 0.6409 - accuracy: 0.6759 - val_loss: 0.7215 - val_accuracy: 0.6328\n",
      "Epoch 6/30\n",
      "7352/7352 [==============================] - 21s 3ms/step - loss: 0.5755 - accuracy: 0.7025 - val_loss: 0.7347 - val_accuracy: 0.6586\n",
      "Epoch 7/30\n",
      "7352/7352 [==============================] - 24s 3ms/step - loss: 0.5586 - accuracy: 0.7500 - val_loss: 0.6474 - val_accuracy: 0.7441\n",
      "Epoch 8/30\n",
      "7352/7352 [==============================] - 22s 3ms/step - loss: 0.4938 - accuracy: 0.7784 - val_loss: 0.7891 - val_accuracy: 0.7112\n",
      "Epoch 9/30\n",
      "7352/7352 [==============================] - 27s 4ms/step - loss: 0.4602 - accuracy: 0.7907 - val_loss: 0.7612 - val_accuracy: 0.7177\n",
      "Epoch 10/30\n",
      "7352/7352 [==============================] - 22s 3ms/step - loss: 0.4374 - accuracy: 0.7922 - val_loss: 0.6681 - val_accuracy: 0.7245\n",
      "Epoch 11/30\n",
      "7352/7352 [==============================] - 23s 3ms/step - loss: 0.4076 - accuracy: 0.8082 - val_loss: 0.5656 - val_accuracy: 0.7540\n",
      "Epoch 12/30\n",
      "7352/7352 [==============================] - 22s 3ms/step - loss: 0.3870 - accuracy: 0.8371 - val_loss: 0.5157 - val_accuracy: 0.8392\n",
      "Epoch 13/30\n",
      "7352/7352 [==============================] - 21s 3ms/step - loss: 0.3303 - accuracy: 0.8954 - val_loss: 0.5163 - val_accuracy: 0.8782\n",
      "Epoch 14/30\n",
      "7352/7352 [==============================] - 22s 3ms/step - loss: 0.2876 - accuracy: 0.9210 - val_loss: 0.5793 - val_accuracy: 0.8446\n",
      "Epoch 15/30\n",
      "7352/7352 [==============================] - 23s 3ms/step - loss: 0.2383 - accuracy: 0.9291 - val_loss: 0.3697 - val_accuracy: 0.8975\n",
      "Epoch 16/30\n",
      "7352/7352 [==============================] - 24s 3ms/step - loss: 0.2225 - accuracy: 0.9309 - val_loss: 0.3675 - val_accuracy: 0.8924\n",
      "Epoch 17/30\n",
      "7352/7352 [==============================] - 23s 3ms/step - loss: 0.2062 - accuracy: 0.9363 - val_loss: 0.4045 - val_accuracy: 0.8999\n",
      "Epoch 18/30\n",
      "7352/7352 [==============================] - 23s 3ms/step - loss: 0.1936 - accuracy: 0.9411 - val_loss: 0.6056 - val_accuracy: 0.8707\n",
      "Epoch 19/30\n",
      "7352/7352 [==============================] - 23s 3ms/step - loss: 0.2009 - accuracy: 0.9408 - val_loss: 0.7823 - val_accuracy: 0.8524\n",
      "Epoch 20/30\n",
      "7352/7352 [==============================] - 22s 3ms/step - loss: 0.2246 - accuracy: 0.9381 - val_loss: 0.3956 - val_accuracy: 0.8996\n",
      "Epoch 21/30\n",
      "7352/7352 [==============================] - 22s 3ms/step - loss: 0.1845 - accuracy: 0.9412 - val_loss: 0.4611 - val_accuracy: 0.8918\n",
      "Epoch 22/30\n",
      "7352/7352 [==============================] - 22s 3ms/step - loss: 0.1814 - accuracy: 0.9457 - val_loss: 0.4755 - val_accuracy: 0.9013\n",
      "Epoch 23/30\n",
      "7352/7352 [==============================] - 22s 3ms/step - loss: 0.2044 - accuracy: 0.9389 - val_loss: 0.4691 - val_accuracy: 0.8948\n",
      "Epoch 24/30\n",
      "7352/7352 [==============================] - 23s 3ms/step - loss: 0.2306 - accuracy: 0.9384 - val_loss: 0.5468 - val_accuracy: 0.8948\n",
      "Epoch 25/30\n",
      "7352/7352 [==============================] - 24s 3ms/step - loss: 0.2119 - accuracy: 0.9397 - val_loss: 0.4385 - val_accuracy: 0.8928\n",
      "Epoch 26/30\n",
      "7352/7352 [==============================] - 22s 3ms/step - loss: 0.1913 - accuracy: 0.9423 - val_loss: 0.5487 - val_accuracy: 0.8843\n",
      "Epoch 27/30\n",
      "7352/7352 [==============================] - 22s 3ms/step - loss: 0.1650 - accuracy: 0.9470 - val_loss: 0.5596 - val_accuracy: 0.8965\n",
      "Epoch 28/30\n",
      "7352/7352 [==============================] - 22s 3ms/step - loss: 0.1642 - accuracy: 0.9475 - val_loss: 0.5737 - val_accuracy: 0.8968\n",
      "Epoch 29/30\n",
      "7352/7352 [==============================] - 22s 3ms/step - loss: 0.1988 - accuracy: 0.9430 - val_loss: 0.5129 - val_accuracy: 0.8935\n",
      "Epoch 30/30\n",
      "7352/7352 [==============================] - 23s 3ms/step - loss: 0.1878 - accuracy: 0.9467 - val_loss: 0.5882 - val_accuracy: 0.8951\n"
     ]
    },
    {
     "data": {
      "text/plain": [
       "<keras.callbacks.callbacks.History at 0x1cae777c240>"
      ]
     },
     "execution_count": 19,
     "metadata": {},
     "output_type": "execute_result"
    }
   ],
   "source": [
    "# Training the model\n",
    "model.fit(X_train,\n",
    "          Y_train,\n",
    "          batch_size=batch_size,\n",
    "          validation_data=(X_test, Y_test),\n",
    "          epochs=epochs)"
   ]
  },
  {
   "cell_type": "code",
   "execution_count": 20,
   "metadata": {},
   "outputs": [
    {
     "name": "stdout",
     "output_type": "stream",
     "text": [
      "Pred                LAYING  SITTING  STANDING  WALKING  WALKING_DOWNSTAIRS  \\\n",
      "True                                                                         \n",
      "LAYING                 510        0         0        0                   0   \n",
      "SITTING                  0      380       101        0                   0   \n",
      "STANDING                 0       75       457        0                   0   \n",
      "WALKING                  0        0         1      441                  35   \n",
      "WALKING_DOWNSTAIRS       0        0         0        0                 415   \n",
      "WALKING_UPSTAIRS         0        1         0        2                  33   \n",
      "\n",
      "Pred                WALKING_UPSTAIRS  \n",
      "True                                  \n",
      "LAYING                            27  \n",
      "SITTING                           10  \n",
      "STANDING                           0  \n",
      "WALKING                           19  \n",
      "WALKING_DOWNSTAIRS                 5  \n",
      "WALKING_UPSTAIRS                 435  \n"
     ]
    }
   ],
   "source": [
    "# Confusion Matrix\n",
    "print(confusion_matrix(Y_test, model.predict(X_test)))"
   ]
  },
  {
   "cell_type": "code",
   "execution_count": 21,
   "metadata": {},
   "outputs": [
    {
     "name": "stdout",
     "output_type": "stream",
     "text": [
      "2947/2947 [==============================] - 1s 472us/step\n"
     ]
    }
   ],
   "source": [
    "score = model.evaluate(X_test, Y_test)"
   ]
  },
  {
   "cell_type": "code",
   "execution_count": 22,
   "metadata": {},
   "outputs": [
    {
     "data": {
      "text/plain": [
       "[0.5882155524368978, 0.8951476216316223]"
      ]
     },
     "execution_count": 22,
     "metadata": {},
     "output_type": "execute_result"
    }
   ],
   "source": [
    "score"
   ]
  },
  {
   "cell_type": "markdown",
   "metadata": {},
   "source": [
    "- With a simple 2 layer architecture we got 90.09% accuracy and a loss of 0.30\n",
    "- We can further imporve the performace with Hyperparameter tuning"
   ]
  },
  {
   "cell_type": "markdown",
   "metadata": {},
   "source": [
    "# Assignment"
   ]
  },
  {
   "cell_type": "markdown",
   "metadata": {},
   "source": [
    "##  Model 1:  1 layer LSTM(38)+Dropout(0.5)"
   ]
  },
  {
   "cell_type": "code",
   "execution_count": 23,
   "metadata": {},
   "outputs": [
    {
     "name": "stdout",
     "output_type": "stream",
     "text": [
      "Model: \"sequential_2\"\n",
      "_________________________________________________________________\n",
      "Layer (type)                 Output Shape              Param #   \n",
      "=================================================================\n",
      "lstm_2 (LSTM)                (None, 38)                7296      \n",
      "_________________________________________________________________\n",
      "dropout_2 (Dropout)          (None, 38)                0         \n",
      "_________________________________________________________________\n",
      "dense_2 (Dense)              (None, 6)                 234       \n",
      "=================================================================\n",
      "Total params: 7,530\n",
      "Trainable params: 7,530\n",
      "Non-trainable params: 0\n",
      "_________________________________________________________________\n"
     ]
    }
   ],
   "source": [
    "# Initiliazing the sequential model\n",
    "model = Sequential()\n",
    "# Configuring the parameters\n",
    "model.add(LSTM(38, input_shape=(timesteps, input_dim)))\n",
    "# Adding a dropout layer\n",
    "model.add(Dropout(0.5))\n",
    "# Adding a dense output layer with sigmoid activation\n",
    "model.add(Dense(n_classes, activation='sigmoid'))\n",
    "model.summary()"
   ]
  },
  {
   "cell_type": "code",
   "execution_count": 24,
   "metadata": {},
   "outputs": [],
   "source": [
    "# Compiling the model\n",
    "model.compile(loss='categorical_crossentropy',\n",
    "              optimizer='rmsprop',\n",
    "              metrics=['accuracy'])"
   ]
  },
  {
   "cell_type": "code",
   "execution_count": 25,
   "metadata": {},
   "outputs": [
    {
     "name": "stdout",
     "output_type": "stream",
     "text": [
      "Train on 7352 samples, validate on 2947 samples\n",
      "Epoch 1/30\n",
      "7352/7352 [==============================] - 24s 3ms/step - loss: 1.2608 - accuracy: 0.4841 - val_loss: 1.0873 - val_accuracy: 0.5331\n",
      "Epoch 2/30\n",
      "7352/7352 [==============================] - 24s 3ms/step - loss: 0.8848 - accuracy: 0.6276 - val_loss: 0.8493 - val_accuracy: 0.6437\n",
      "Epoch 3/30\n",
      "7352/7352 [==============================] - 23s 3ms/step - loss: 0.7686 - accuracy: 0.6704 - val_loss: 0.8431 - val_accuracy: 0.6549\n",
      "Epoch 4/30\n",
      "7352/7352 [==============================] - 24s 3ms/step - loss: 0.6314 - accuracy: 0.7480 - val_loss: 0.6157 - val_accuracy: 0.7251\n",
      "Epoch 5/30\n",
      "7352/7352 [==============================] - 23s 3ms/step - loss: 0.5177 - accuracy: 0.7865 - val_loss: 0.5887 - val_accuracy: 0.7716\n",
      "Epoch 6/30\n",
      "7352/7352 [==============================] - 23s 3ms/step - loss: 0.4803 - accuracy: 0.8035 - val_loss: 0.6082 - val_accuracy: 0.7682\n",
      "Epoch 7/30\n",
      "7352/7352 [==============================] - 23s 3ms/step - loss: 0.4648 - accuracy: 0.8055 - val_loss: 0.5773 - val_accuracy: 0.7998\n",
      "Epoch 8/30\n",
      "7352/7352 [==============================] - 23s 3ms/step - loss: 0.4090 - accuracy: 0.8470 - val_loss: 0.5187 - val_accuracy: 0.8541\n",
      "Epoch 9/30\n",
      "7352/7352 [==============================] - 24s 3ms/step - loss: 0.3426 - accuracy: 0.8889 - val_loss: 0.3952 - val_accuracy: 0.8775\n",
      "Epoch 10/30\n",
      "7352/7352 [==============================] - 23s 3ms/step - loss: 0.2641 - accuracy: 0.9223 - val_loss: 0.8859 - val_accuracy: 0.7743\n",
      "Epoch 11/30\n",
      "7352/7352 [==============================] - 22s 3ms/step - loss: 0.2546 - accuracy: 0.9217 - val_loss: 0.3682 - val_accuracy: 0.8802\n",
      "Epoch 12/30\n",
      "7352/7352 [==============================] - 22s 3ms/step - loss: 0.2263 - accuracy: 0.9295 - val_loss: 0.3907 - val_accuracy: 0.8999\n",
      "Epoch 13/30\n",
      "7352/7352 [==============================] - 22s 3ms/step - loss: 0.1955 - accuracy: 0.9369 - val_loss: 0.4317 - val_accuracy: 0.9043\n",
      "Epoch 14/30\n",
      "7352/7352 [==============================] - 22s 3ms/step - loss: 0.1912 - accuracy: 0.9387 - val_loss: 0.4244 - val_accuracy: 0.9067\n",
      "Epoch 15/30\n",
      "7352/7352 [==============================] - 22s 3ms/step - loss: 0.1758 - accuracy: 0.9403 - val_loss: 0.3278 - val_accuracy: 0.9006\n",
      "Epoch 16/30\n",
      "7352/7352 [==============================] - 22s 3ms/step - loss: 0.1889 - accuracy: 0.9377 - val_loss: 0.2627 - val_accuracy: 0.9111\n",
      "Epoch 17/30\n",
      "7352/7352 [==============================] - 22s 3ms/step - loss: 0.1805 - accuracy: 0.9385 - val_loss: 0.3675 - val_accuracy: 0.9040\n",
      "Epoch 18/30\n",
      "7352/7352 [==============================] - 22s 3ms/step - loss: 0.1674 - accuracy: 0.9419 - val_loss: 0.4200 - val_accuracy: 0.9074\n",
      "Epoch 19/30\n",
      "7352/7352 [==============================] - 22s 3ms/step - loss: 0.1662 - accuracy: 0.9449 - val_loss: 0.4317 - val_accuracy: 0.9057\n",
      "Epoch 20/30\n",
      "7352/7352 [==============================] - 23s 3ms/step - loss: 0.1699 - accuracy: 0.9416 - val_loss: 0.2859 - val_accuracy: 0.9131\n",
      "Epoch 21/30\n",
      "7352/7352 [==============================] - 25s 3ms/step - loss: 0.1601 - accuracy: 0.9465 - val_loss: 0.4015 - val_accuracy: 0.9131\n",
      "Epoch 22/30\n",
      "7352/7352 [==============================] - 28s 4ms/step - loss: 0.1657 - accuracy: 0.9427 - val_loss: 0.4350 - val_accuracy: 0.8877\n",
      "Epoch 23/30\n",
      "7352/7352 [==============================] - 24s 3ms/step - loss: 0.1522 - accuracy: 0.9463 - val_loss: 0.3205 - val_accuracy: 0.9040\n",
      "Epoch 24/30\n",
      "7352/7352 [==============================] - 23s 3ms/step - loss: 0.1767 - accuracy: 0.9387 - val_loss: 0.2447 - val_accuracy: 0.9141\n",
      "Epoch 25/30\n",
      "7352/7352 [==============================] - 22s 3ms/step - loss: 0.1647 - accuracy: 0.9421 - val_loss: 0.3080 - val_accuracy: 0.9030\n",
      "Epoch 26/30\n",
      "7352/7352 [==============================] - 22s 3ms/step - loss: 0.1663 - accuracy: 0.9457 - val_loss: 0.2910 - val_accuracy: 0.9192\n",
      "Epoch 27/30\n",
      "7352/7352 [==============================] - 22s 3ms/step - loss: 0.1452 - accuracy: 0.9483 - val_loss: 0.3577 - val_accuracy: 0.9128\n",
      "Epoch 28/30\n",
      "7352/7352 [==============================] - 22s 3ms/step - loss: 0.1557 - accuracy: 0.9480 - val_loss: 0.2914 - val_accuracy: 0.9162\n",
      "Epoch 29/30\n",
      "7352/7352 [==============================] - 22s 3ms/step - loss: 0.1429 - accuracy: 0.9470 - val_loss: 0.2325 - val_accuracy: 0.9250\n",
      "Epoch 30/30\n",
      "7352/7352 [==============================] - 22s 3ms/step - loss: 0.1947 - accuracy: 0.9427 - val_loss: 0.2568 - val_accuracy: 0.9247\n"
     ]
    },
    {
     "data": {
      "text/plain": [
       "<keras.callbacks.callbacks.History at 0x1caefc2de10>"
      ]
     },
     "execution_count": 25,
     "metadata": {},
     "output_type": "execute_result"
    }
   ],
   "source": [
    "# Training the model\n",
    "model.fit(X_train,\n",
    "          Y_train,\n",
    "          batch_size=batch_size,\n",
    "          validation_data=(X_test, Y_test),\n",
    "          epochs=epochs)"
   ]
  },
  {
   "cell_type": "code",
   "execution_count": 26,
   "metadata": {},
   "outputs": [
    {
     "name": "stdout",
     "output_type": "stream",
     "text": [
      "Pred                LAYING  SITTING  STANDING  WALKING  WALKING_DOWNSTAIRS  \\\n",
      "True                                                                         \n",
      "LAYING                 537        0         0        0                   0   \n",
      "SITTING                  0      443        36        1                   0   \n",
      "STANDING                 0      140       388        4                   0   \n",
      "WALKING                  0        0         0      478                   4   \n",
      "WALKING_DOWNSTAIRS       0        0         0        1                 419   \n",
      "WALKING_UPSTAIRS         0        4         0        4                   3   \n",
      "\n",
      "Pred                WALKING_UPSTAIRS  \n",
      "True                                  \n",
      "LAYING                             0  \n",
      "SITTING                           11  \n",
      "STANDING                           0  \n",
      "WALKING                           14  \n",
      "WALKING_DOWNSTAIRS                 0  \n",
      "WALKING_UPSTAIRS                 460  \n"
     ]
    }
   ],
   "source": [
    "# Confusion Matrix\n",
    "print(confusion_matrix(Y_test, model.predict(X_test)))"
   ]
  },
  {
   "cell_type": "code",
   "execution_count": 27,
   "metadata": {},
   "outputs": [
    {
     "name": "stdout",
     "output_type": "stream",
     "text": [
      "2947/2947 [==============================] - 1s 420us/step\n"
     ]
    }
   ],
   "source": [
    "score = model.evaluate(X_test, Y_test)"
   ]
  },
  {
   "cell_type": "code",
   "execution_count": 28,
   "metadata": {},
   "outputs": [
    {
     "data": {
      "text/plain": [
       "[0.25677269414946985, 0.9246691465377808]"
      ]
     },
     "execution_count": 28,
     "metadata": {},
     "output_type": "execute_result"
    }
   ],
   "source": [
    "score"
   ]
  },
  {
   "cell_type": "markdown",
   "metadata": {},
   "source": []
  },
  {
   "cell_type": "markdown",
   "metadata": {},
   "source": [
    "## Module -2: 2- LSTM(55)+BN+Dropout(0.8)"
   ]
  },
  {
   "cell_type": "code",
   "execution_count": 29,
   "metadata": {},
   "outputs": [
    {
     "name": "stdout",
     "output_type": "stream",
     "text": [
      "Model Summary: \n",
      "Model: \"sequential_3\"\n",
      "_________________________________________________________________\n",
      "Layer (type)                 Output Shape              Param #   \n",
      "=================================================================\n",
      "lstm_3 (LSTM)                (None, 128, 55)           14300     \n",
      "_________________________________________________________________\n",
      "batch_normalization_1 (Batch (None, 128, 55)           220       \n",
      "_________________________________________________________________\n",
      "dropout_3 (Dropout)          (None, 128, 55)           0         \n",
      "_________________________________________________________________\n",
      "lstm_4 (LSTM)                (None, 30)                10320     \n",
      "_________________________________________________________________\n",
      "dropout_4 (Dropout)          (None, 30)                0         \n",
      "_________________________________________________________________\n",
      "dense_3 (Dense)              (None, 6)                 186       \n",
      "=================================================================\n",
      "Total params: 25,026\n",
      "Trainable params: 24,916\n",
      "Non-trainable params: 110\n",
      "_________________________________________________________________\n"
     ]
    }
   ],
   "source": [
    "from keras.regularizers import L1L2\n",
    "from keras.layers import LSTM , BatchNormalization\n",
    "reg = L1L2(0.01, 0.01)\n",
    "\n",
    "model = Sequential()\n",
    "model.add(LSTM(55, input_shape=(timesteps, input_dim), kernel_initializer='glorot_normal' , return_sequences=True, bias_regularizer=reg))\n",
    "model.add(BatchNormalization())\n",
    "model.add(Dropout(0.8))\n",
    "model.add(LSTM(30))\n",
    "model.add(Dropout(0.8))\n",
    "model.add(Dense(n_classes, activation='sigmoid'))\n",
    "print(\"Model Summary: \")\n",
    "model.summary()"
   ]
  },
  {
   "cell_type": "code",
   "execution_count": 30,
   "metadata": {},
   "outputs": [],
   "source": [
    "# Compiling the model\n",
    "\n",
    "model.compile(loss='categorical_crossentropy',\n",
    "              optimizer='rmsprop',\n",
    "              metrics=['accuracy'])\n"
   ]
  },
  {
   "cell_type": "code",
   "execution_count": 32,
   "metadata": {},
   "outputs": [
    {
     "name": "stdout",
     "output_type": "stream",
     "text": [
      "Train on 7352 samples, validate on 2947 samples\n",
      "Epoch 1/25\n",
      "7352/7352 [==============================] - 61s 8ms/step - loss: 2.1787 - accuracy: 0.4395 - val_loss: 1.6111 - val_accuracy: 0.4897\n",
      "Epoch 2/25\n",
      "7352/7352 [==============================] - 58s 8ms/step - loss: 1.3174 - accuracy: 0.5528 - val_loss: 1.5537 - val_accuracy: 0.4503\n",
      "Epoch 3/25\n",
      "7352/7352 [==============================] - 57s 8ms/step - loss: 0.9550 - accuracy: 0.5639 - val_loss: 1.0835 - val_accuracy: 0.5979\n",
      "Epoch 4/25\n",
      "7352/7352 [==============================] - 56s 8ms/step - loss: 0.8928 - accuracy: 0.5876 - val_loss: 1.0230 - val_accuracy: 0.6088\n",
      "Epoch 5/25\n",
      "7352/7352 [==============================] - 55s 7ms/step - loss: 0.8599 - accuracy: 0.6132 - val_loss: 0.8395 - val_accuracy: 0.6145\n",
      "Epoch 6/25\n",
      "7352/7352 [==============================] - 54s 7ms/step - loss: 0.8306 - accuracy: 0.6194 - val_loss: 0.7006 - val_accuracy: 0.6593\n",
      "Epoch 7/25\n",
      "7352/7352 [==============================] - 54s 7ms/step - loss: 0.8255 - accuracy: 0.6421 - val_loss: 0.7505 - val_accuracy: 0.6563\n",
      "Epoch 8/25\n",
      "7352/7352 [==============================] - 54s 7ms/step - loss: 0.7836 - accuracy: 0.6533 - val_loss: 0.7317 - val_accuracy: 0.6736\n",
      "Epoch 9/25\n",
      "7352/7352 [==============================] - 54s 7ms/step - loss: 0.7626 - accuracy: 0.6854 - val_loss: 0.6883 - val_accuracy: 0.7547\n",
      "Epoch 10/25\n",
      "7352/7352 [==============================] - 54s 7ms/step - loss: 0.7200 - accuracy: 0.6945 - val_loss: 0.5191 - val_accuracy: 0.8507\n",
      "Epoch 11/25\n",
      "7352/7352 [==============================] - 54s 7ms/step - loss: 0.6900 - accuracy: 0.7088 - val_loss: 0.5241 - val_accuracy: 0.8361\n",
      "Epoch 12/25\n",
      "7352/7352 [==============================] - 53s 7ms/step - loss: 0.6641 - accuracy: 0.7371 - val_loss: 0.5242 - val_accuracy: 0.8239\n",
      "Epoch 13/25\n",
      "7352/7352 [==============================] - 54s 7ms/step - loss: 0.6381 - accuracy: 0.7416 - val_loss: 0.5214 - val_accuracy: 0.8432\n",
      "Epoch 14/25\n",
      "7352/7352 [==============================] - 56s 8ms/step - loss: 0.6336 - accuracy: 0.7693 - val_loss: 0.4916 - val_accuracy: 0.8527\n",
      "Epoch 15/25\n",
      "7352/7352 [==============================] - 54s 7ms/step - loss: 0.6046 - accuracy: 0.7809 - val_loss: 0.7898 - val_accuracy: 0.7971\n",
      "Epoch 16/25\n",
      "7352/7352 [==============================] - 57s 8ms/step - loss: 0.6003 - accuracy: 0.7979 - val_loss: 0.5996 - val_accuracy: 0.8378\n",
      "Epoch 17/25\n",
      "7352/7352 [==============================] - 54s 7ms/step - loss: 0.5511 - accuracy: 0.8149 - val_loss: 0.3288 - val_accuracy: 0.9040\n",
      "Epoch 18/25\n",
      "7352/7352 [==============================] - 55s 7ms/step - loss: 0.5314 - accuracy: 0.8236 - val_loss: 0.4131 - val_accuracy: 0.8782\n",
      "Epoch 19/25\n",
      "7352/7352 [==============================] - 55s 7ms/step - loss: 0.5183 - accuracy: 0.8311 - val_loss: 0.3343 - val_accuracy: 0.9060\n",
      "Epoch 20/25\n",
      "7352/7352 [==============================] - 55s 7ms/step - loss: 0.4856 - accuracy: 0.8409 - val_loss: 0.2938 - val_accuracy: 0.9050\n",
      "Epoch 21/25\n",
      "7352/7352 [==============================] - 55s 8ms/step - loss: 0.4835 - accuracy: 0.8462 - val_loss: 0.3486 - val_accuracy: 0.9036\n",
      "Epoch 22/25\n",
      "7352/7352 [==============================] - 53s 7ms/step - loss: 0.4665 - accuracy: 0.8492 - val_loss: 0.3833 - val_accuracy: 0.9016\n",
      "Epoch 23/25\n",
      "7352/7352 [==============================] - 53s 7ms/step - loss: 0.4548 - accuracy: 0.8568 - val_loss: 0.4510 - val_accuracy: 0.8928\n",
      "Epoch 24/25\n",
      "7352/7352 [==============================] - 53s 7ms/step - loss: 0.4508 - accuracy: 0.8577 - val_loss: 0.4406 - val_accuracy: 0.8931\n",
      "Epoch 25/25\n",
      "7352/7352 [==============================] - 54s 7ms/step - loss: 0.4178 - accuracy: 0.8704 - val_loss: 0.3928 - val_accuracy: 0.8982\n"
     ]
    },
    {
     "data": {
      "text/plain": [
       "<keras.callbacks.callbacks.History at 0x1caf1e86978>"
      ]
     },
     "execution_count": 32,
     "metadata": {},
     "output_type": "execute_result"
    }
   ],
   "source": [
    "# Training the model\n",
    "model.fit(X_train,\n",
    "          Y_train,\n",
    "          batch_size=batch_size,\n",
    "          validation_data=(X_test, Y_test),\n",
    "          epochs=25)"
   ]
  },
  {
   "cell_type": "code",
   "execution_count": 33,
   "metadata": {},
   "outputs": [
    {
     "name": "stdout",
     "output_type": "stream",
     "text": [
      "Pred                LAYING  SITTING  STANDING  WALKING  WALKING_DOWNSTAIRS  \\\n",
      "True                                                                         \n",
      "LAYING                 510        0        20        0                   6   \n",
      "SITTING                  0      424        65        0                   0   \n",
      "STANDING                 0      134       397        0                   0   \n",
      "WALKING                  0        3         0      466                  26   \n",
      "WALKING_DOWNSTAIRS       0        0         0        0                 420   \n",
      "WALKING_UPSTAIRS         0        0         4        2                  35   \n",
      "\n",
      "Pred                WALKING_UPSTAIRS  \n",
      "True                                  \n",
      "LAYING                             1  \n",
      "SITTING                            2  \n",
      "STANDING                           1  \n",
      "WALKING                            1  \n",
      "WALKING_DOWNSTAIRS                 0  \n",
      "WALKING_UPSTAIRS                 430  \n"
     ]
    }
   ],
   "source": [
    "# Confusion Matrix\n",
    "\n",
    "print(confusion_matrix(Y_test, model.predict(X_test)))"
   ]
  },
  {
   "cell_type": "code",
   "execution_count": 34,
   "metadata": {},
   "outputs": [
    {
     "name": "stdout",
     "output_type": "stream",
     "text": [
      "2947/2947 [==============================] - 3s 1ms/step\n"
     ]
    }
   ],
   "source": [
    "score = model.evaluate(X_test, Y_test)"
   ]
  },
  {
   "cell_type": "code",
   "execution_count": 35,
   "metadata": {},
   "outputs": [
    {
     "data": {
      "text/plain": [
       "[0.3928260555393516, 0.898201584815979]"
      ]
     },
     "execution_count": 35,
     "metadata": {},
     "output_type": "execute_result"
    }
   ],
   "source": [
    "score"
   ]
  },
  {
   "cell_type": "markdown",
   "metadata": {},
   "source": [
    "##  Model 3: 2 LSTM(70,35)+Dropout(0.6)"
   ]
  },
  {
   "cell_type": "code",
   "execution_count": 40,
   "metadata": {},
   "outputs": [
    {
     "name": "stdout",
     "output_type": "stream",
     "text": [
      "Model Summary: \n",
      "Model: \"sequential_8\"\n",
      "_________________________________________________________________\n",
      "Layer (type)                 Output Shape              Param #   \n",
      "=================================================================\n",
      "lstm_17 (LSTM)               (None, 128, 70)           22400     \n",
      "_________________________________________________________________\n",
      "dropout_13 (Dropout)         (None, 128, 70)           0         \n",
      "_________________________________________________________________\n",
      "lstm_18 (LSTM)               (None, 35)                14840     \n",
      "_________________________________________________________________\n",
      "dropout_14 (Dropout)         (None, 35)                0         \n",
      "_________________________________________________________________\n",
      "dense_4 (Dense)              (None, 6)                 216       \n",
      "=================================================================\n",
      "Total params: 37,456\n",
      "Trainable params: 37,456\n",
      "Non-trainable params: 0\n",
      "_________________________________________________________________\n"
     ]
    }
   ],
   "source": [
    "model = Sequential()\n",
    "model.add(LSTM(70, input_shape=(timesteps, input_dim), kernel_initializer='glorot_normal' , return_sequences=True, bias_regularizer=reg))\n",
    "model.add(Dropout(0.6))\n",
    "model.add(LSTM(35))\n",
    "model.add(Dropout(0.6))\n",
    "model.add(Dense(n_classes, activation='sigmoid'))\n",
    "print(\"Model Summary: \")\n",
    "model.summary()"
   ]
  },
  {
   "cell_type": "code",
   "execution_count": 41,
   "metadata": {},
   "outputs": [],
   "source": [
    "# Compiling the model\n",
    "model.compile(loss='categorical_crossentropy',\n",
    "              optimizer='rmsprop',\n",
    "              metrics=['accuracy'])"
   ]
  },
  {
   "cell_type": "code",
   "execution_count": 42,
   "metadata": {},
   "outputs": [
    {
     "name": "stdout",
     "output_type": "stream",
     "text": [
      "Train on 7352 samples, validate on 2947 samples\n",
      "Epoch 1/25\n",
      "7352/7352 [==============================] - 66s 9ms/step - loss: 2.2385 - accuracy: 0.4835 - val_loss: 1.6759 - val_accuracy: 0.5358\n",
      "Epoch 2/25\n",
      "7352/7352 [==============================] - 65s 9ms/step - loss: 1.3105 - accuracy: 0.5910 - val_loss: 1.0784 - val_accuracy: 0.6010\n",
      "Epoch 3/25\n",
      "7352/7352 [==============================] - 65s 9ms/step - loss: 0.8694 - accuracy: 0.6291 - val_loss: 0.9420 - val_accuracy: 0.6060\n",
      "Epoch 4/25\n",
      "7352/7352 [==============================] - 62s 8ms/step - loss: 0.7610 - accuracy: 0.6400 - val_loss: 0.8358 - val_accuracy: 0.6172\n",
      "Epoch 5/25\n",
      "7352/7352 [==============================] - 62s 8ms/step - loss: 0.7239 - accuracy: 0.6495 - val_loss: 0.8580 - val_accuracy: 0.6220\n",
      "Epoch 6/25\n",
      "7352/7352 [==============================] - 60s 8ms/step - loss: 0.7325 - accuracy: 0.6507 - val_loss: 0.8955 - val_accuracy: 0.6128\n",
      "Epoch 7/25\n",
      "7352/7352 [==============================] - 70s 10ms/step - loss: 0.7106 - accuracy: 0.6496 - val_loss: 0.8542 - val_accuracy: 0.6508\n",
      "Epoch 8/25\n",
      "7352/7352 [==============================] - 61s 8ms/step - loss: 0.6770 - accuracy: 0.6785 - val_loss: 0.8461 - val_accuracy: 0.6576\n",
      "Epoch 9/25\n",
      "7352/7352 [==============================] - 62s 8ms/step - loss: 0.6676 - accuracy: 0.6844 - val_loss: 0.8827 - val_accuracy: 0.6356\n",
      "Epoch 10/25\n",
      "7352/7352 [==============================] - 61s 8ms/step - loss: 0.6842 - accuracy: 0.6907 - val_loss: 1.1169 - val_accuracy: 0.6478\n",
      "Epoch 11/25\n",
      "7352/7352 [==============================] - 62s 8ms/step - loss: 0.5922 - accuracy: 0.7390 - val_loss: 0.9562 - val_accuracy: 0.6698\n",
      "Epoch 12/25\n",
      "7352/7352 [==============================] - 61s 8ms/step - loss: 0.5262 - accuracy: 0.7647 - val_loss: 0.7163 - val_accuracy: 0.7414\n",
      "Epoch 13/25\n",
      "7352/7352 [==============================] - 62s 8ms/step - loss: 0.4625 - accuracy: 0.8062 - val_loss: 0.7867 - val_accuracy: 0.7954\n",
      "Epoch 14/25\n",
      "7352/7352 [==============================] - 62s 8ms/step - loss: 0.4308 - accuracy: 0.8364 - val_loss: 0.7427 - val_accuracy: 0.8001\n",
      "Epoch 15/25\n",
      "7352/7352 [==============================] - 65s 9ms/step - loss: 0.3738 - accuracy: 0.8647 - val_loss: 0.5351 - val_accuracy: 0.8656\n",
      "Epoch 16/25\n",
      "7352/7352 [==============================] - 61s 8ms/step - loss: 0.3081 - accuracy: 0.9087 - val_loss: 0.5187 - val_accuracy: 0.8714\n",
      "Epoch 17/25\n",
      "7352/7352 [==============================] - 61s 8ms/step - loss: 0.2606 - accuracy: 0.9211 - val_loss: 0.4039 - val_accuracy: 0.8839\n",
      "Epoch 18/25\n",
      "7352/7352 [==============================] - 61s 8ms/step - loss: 0.2349 - accuracy: 0.9241 - val_loss: 0.4407 - val_accuracy: 0.8918\n",
      "Epoch 19/25\n",
      "7352/7352 [==============================] - 61s 8ms/step - loss: 0.2160 - accuracy: 0.9351 - val_loss: 0.5404 - val_accuracy: 0.8853\n",
      "Epoch 20/25\n",
      "7352/7352 [==============================] - 61s 8ms/step - loss: 0.1879 - accuracy: 0.9395 - val_loss: 0.5459 - val_accuracy: 0.8867\n",
      "Epoch 21/25\n",
      "7352/7352 [==============================] - 66s 9ms/step - loss: 0.1827 - accuracy: 0.9440 - val_loss: 0.5079 - val_accuracy: 0.8863\n",
      "Epoch 22/25\n",
      "7352/7352 [==============================] - 68s 9ms/step - loss: 0.1806 - accuracy: 0.9426 - val_loss: 0.5243 - val_accuracy: 0.9053\n",
      "Epoch 23/25\n",
      "7352/7352 [==============================] - 62s 8ms/step - loss: 0.1626 - accuracy: 0.9480 - val_loss: 0.4818 - val_accuracy: 0.8958\n",
      "Epoch 24/25\n",
      "7352/7352 [==============================] - 65s 9ms/step - loss: 0.1746 - accuracy: 0.9479 - val_loss: 0.5969 - val_accuracy: 0.8877\n",
      "Epoch 25/25\n",
      "7352/7352 [==============================] - 64s 9ms/step - loss: 0.1550 - accuracy: 0.9478 - val_loss: 0.6773 - val_accuracy: 0.8884\n"
     ]
    },
    {
     "data": {
      "text/plain": [
       "<keras.callbacks.callbacks.History at 0x1caf7ae8128>"
      ]
     },
     "execution_count": 42,
     "metadata": {},
     "output_type": "execute_result"
    }
   ],
   "source": [
    "# Training the model\n",
    "model.fit(X_train,\n",
    "          Y_train,\n",
    "          batch_size=batch_size,\n",
    "          validation_data=(X_test, Y_test),\n",
    "          epochs=25)"
   ]
  },
  {
   "cell_type": "code",
   "execution_count": 43,
   "metadata": {},
   "outputs": [
    {
     "name": "stdout",
     "output_type": "stream",
     "text": [
      "2947/2947 [==============================] - 4s 1ms/step\n"
     ]
    }
   ],
   "source": [
    "score = model.evaluate(X_test, Y_test)"
   ]
  },
  {
   "cell_type": "code",
   "execution_count": 44,
   "metadata": {},
   "outputs": [
    {
     "data": {
      "text/plain": [
       "[0.6772659795652995, 0.8883610367774963]"
      ]
     },
     "execution_count": 44,
     "metadata": {},
     "output_type": "execute_result"
    }
   ],
   "source": [
    "score"
   ]
  },
  {
   "cell_type": "markdown",
   "metadata": {},
   "source": [
    "## model 4: 2 LSTM(120,60)+BN"
   ]
  },
  {
   "cell_type": "code",
   "execution_count": 46,
   "metadata": {},
   "outputs": [
    {
     "name": "stdout",
     "output_type": "stream",
     "text": [
      "Model Summary: \n",
      "Model: \"sequential_9\"\n",
      "_________________________________________________________________\n",
      "Layer (type)                 Output Shape              Param #   \n",
      "=================================================================\n",
      "lstm_19 (LSTM)               (None, 128, 120)          62400     \n",
      "_________________________________________________________________\n",
      "batch_normalization_2 (Batch (None, 128, 120)          480       \n",
      "_________________________________________________________________\n",
      "lstm_20 (LSTM)               (None, 60)                43440     \n",
      "_________________________________________________________________\n",
      "batch_normalization_3 (Batch (None, 60)                240       \n",
      "_________________________________________________________________\n",
      "dense_5 (Dense)              (None, 6)                 366       \n",
      "=================================================================\n",
      "Total params: 106,926\n",
      "Trainable params: 106,566\n",
      "Non-trainable params: 360\n",
      "_________________________________________________________________\n"
     ]
    }
   ],
   "source": [
    "model = Sequential()\n",
    "model.add(LSTM(120, input_shape=(timesteps, input_dim), kernel_initializer='glorot_normal' , return_sequences=True, bias_regularizer=reg))\n",
    "model.add(BatchNormalization())\n",
    "model.add(LSTM(60))\n",
    "model.add(BatchNormalization())\n",
    "model.add(Dense(n_classes, activation='sigmoid'))\n",
    "print(\"Model Summary: \")\n",
    "model.summary()"
   ]
  },
  {
   "cell_type": "code",
   "execution_count": 47,
   "metadata": {},
   "outputs": [],
   "source": [
    "# Compiling the model\n",
    "model.compile(loss='binary_crossentropy',\n",
    "              optimizer='rmsprop',\n",
    "              metrics=['accuracy'])"
   ]
  },
  {
   "cell_type": "code",
   "execution_count": 48,
   "metadata": {},
   "outputs": [
    {
     "name": "stdout",
     "output_type": "stream",
     "text": [
      "Train on 7352 samples, validate on 2947 samples\n",
      "Epoch 1/15\n",
      "7352/7352 [==============================] - 96s 13ms/step - loss: 1.8490 - accuracy: 0.9329 - val_loss: 1.1441 - val_accuracy: 0.9339\n",
      "Epoch 2/15\n",
      "7352/7352 [==============================] - 95s 13ms/step - loss: 0.5745 - accuracy: 0.9769 - val_loss: 0.1965 - val_accuracy: 0.9650\n",
      "Epoch 3/15\n",
      "7352/7352 [==============================] - 94s 13ms/step - loss: 0.0696 - accuracy: 0.9783 - val_loss: 0.1029 - val_accuracy: 0.9524\n",
      "Epoch 4/15\n",
      "7352/7352 [==============================] - 96s 13ms/step - loss: 0.0568 - accuracy: 0.9793 - val_loss: 0.1121 - val_accuracy: 0.9656\n",
      "Epoch 5/15\n",
      "7352/7352 [==============================] - 101s 14ms/step - loss: 0.0537 - accuracy: 0.9797 - val_loss: 0.1520 - val_accuracy: 0.9395\n",
      "Epoch 6/15\n",
      "7352/7352 [==============================] - 100s 14ms/step - loss: 0.0514 - accuracy: 0.9805 - val_loss: 0.1512 - val_accuracy: 0.9604\n",
      "Epoch 7/15\n",
      "7352/7352 [==============================] - 104s 14ms/step - loss: 0.0516 - accuracy: 0.9812 - val_loss: 0.0818 - val_accuracy: 0.9733\n",
      "Epoch 8/15\n",
      "7352/7352 [==============================] - 95s 13ms/step - loss: 0.0506 - accuracy: 0.9817 - val_loss: 0.0669 - val_accuracy: 0.9751\n",
      "Epoch 9/15\n",
      "7352/7352 [==============================] - 96s 13ms/step - loss: 0.0486 - accuracy: 0.9814 - val_loss: 0.0923 - val_accuracy: 0.9690\n",
      "Epoch 10/15\n",
      "7352/7352 [==============================] - 93s 13ms/step - loss: 0.0485 - accuracy: 0.9819 - val_loss: 0.0933 - val_accuracy: 0.9714\n",
      "Epoch 11/15\n",
      "7352/7352 [==============================] - 104s 14ms/step - loss: 0.0491 - accuracy: 0.9816 - val_loss: 0.0816 - val_accuracy: 0.9718\n",
      "Epoch 12/15\n",
      "7352/7352 [==============================] - 95s 13ms/step - loss: 0.0471 - accuracy: 0.9824 - val_loss: 0.0835 - val_accuracy: 0.9719\n",
      "Epoch 13/15\n",
      "7352/7352 [==============================] - 96s 13ms/step - loss: 0.0493 - accuracy: 0.9820 - val_loss: 0.1110 - val_accuracy: 0.9693\n",
      "Epoch 14/15\n",
      "7352/7352 [==============================] - 97s 13ms/step - loss: 0.0466 - accuracy: 0.9825 - val_loss: 0.0778 - val_accuracy: 0.9751\n",
      "Epoch 15/15\n",
      "7352/7352 [==============================] - 95s 13ms/step - loss: 0.0463 - accuracy: 0.9825 - val_loss: 0.0790 - val_accuracy: 0.9744\n"
     ]
    },
    {
     "data": {
      "text/plain": [
       "<keras.callbacks.callbacks.History at 0x1caf865c048>"
      ]
     },
     "execution_count": 48,
     "metadata": {},
     "output_type": "execute_result"
    }
   ],
   "source": [
    "# Training the model\n",
    "model.fit(X_train,\n",
    "          Y_train,\n",
    "          batch_size=batch_size,\n",
    "          validation_data=(X_test, Y_test),\n",
    "          epochs=15)"
   ]
  },
  {
   "cell_type": "code",
   "execution_count": 49,
   "metadata": {},
   "outputs": [
    {
     "name": "stdout",
     "output_type": "stream",
     "text": [
      "Pred                LAYING  SITTING  STANDING  WALKING  WALKING_DOWNSTAIRS  \\\n",
      "True                                                                         \n",
      "LAYING                 537        0         0        0                   0   \n",
      "SITTING                  6      383        99        0                   0   \n",
      "STANDING                 0      108       424        0                   0   \n",
      "WALKING                  0        0         0      494                   1   \n",
      "WALKING_DOWNSTAIRS       0        0         0        0                 418   \n",
      "WALKING_UPSTAIRS         0        5         0        1                  19   \n",
      "\n",
      "Pred                WALKING_UPSTAIRS  \n",
      "True                                  \n",
      "LAYING                             0  \n",
      "SITTING                            3  \n",
      "STANDING                           0  \n",
      "WALKING                            1  \n",
      "WALKING_DOWNSTAIRS                 2  \n",
      "WALKING_UPSTAIRS                 446  \n"
     ]
    }
   ],
   "source": [
    "# Confusion Matrix\n",
    "print(confusion_matrix(Y_test, model.predict(X_test)))"
   ]
  },
  {
   "cell_type": "code",
   "execution_count": 50,
   "metadata": {},
   "outputs": [
    {
     "name": "stdout",
     "output_type": "stream",
     "text": [
      "2947/2947 [==============================] - 7s 2ms/step\n"
     ]
    }
   ],
   "source": [
    "score = model.evaluate(X_test, Y_test)"
   ]
  },
  {
   "cell_type": "code",
   "execution_count": 51,
   "metadata": {},
   "outputs": [
    {
     "data": {
      "text/plain": [
       "[0.07902003169861822, 0.9744372367858887]"
      ]
     },
     "execution_count": 51,
     "metadata": {},
     "output_type": "execute_result"
    }
   ],
   "source": [
    "score"
   ]
  },
  {
   "cell_type": "markdown",
   "metadata": {},
   "source": [
    "## model-5: 2 LSTM(90,45)+BN+Dropout(0.6)"
   ]
  },
  {
   "cell_type": "code",
   "execution_count": 83,
   "metadata": {},
   "outputs": [
    {
     "name": "stdout",
     "output_type": "stream",
     "text": [
      "Model: \"sequential_18\"\n",
      "_________________________________________________________________\n",
      "Layer (type)                 Output Shape              Param #   \n",
      "=================================================================\n",
      "lstm_32 (LSTM)               (None, 90)                36000     \n",
      "_________________________________________________________________\n",
      "dropout_20 (Dropout)         (None, 90)                0         \n",
      "_________________________________________________________________\n",
      "dense_14 (Dense)             (None, 6)                 546       \n",
      "=================================================================\n",
      "Total params: 36,546\n",
      "Trainable params: 36,546\n",
      "Non-trainable params: 0\n",
      "_________________________________________________________________\n"
     ]
    }
   ],
   "source": [
    "# Initiliazing the sequential model\n",
    "model = Sequential()\n",
    "# Configuring the parameters\n",
    "model.add(LSTM(90, input_shape=(timesteps, input_dim)))\n",
    "# Adding a dropout layer\n",
    "model.add(Dropout(0.7))\n",
    "# Adding a dense output layer with sigmoid activation\n",
    "model.add(Dense(n_classes, activation='sigmoid'))\n",
    "model.summary()"
   ]
  },
  {
   "cell_type": "code",
   "execution_count": 84,
   "metadata": {},
   "outputs": [],
   "source": [
    "# Compiling the model\n",
    "model.compile(loss='categorical_crossentropy',\n",
    "              optimizer='rmsprop',\n",
    "              metrics=['accuracy'])"
   ]
  },
  {
   "cell_type": "code",
   "execution_count": 85,
   "metadata": {},
   "outputs": [
    {
     "name": "stdout",
     "output_type": "stream",
     "text": [
      "Train on 7352 samples, validate on 2947 samples\n",
      "Epoch 1/30\n",
      "7352/7352 [==============================] - 166s 23ms/step - loss: 1.2887 - accuracy: 0.4429 - val_loss: 1.3044 - val_accuracy: 0.4754\n",
      "Epoch 2/30\n",
      "7352/7352 [==============================] - 154s 21ms/step - loss: 0.9033 - accuracy: 0.5966 - val_loss: 0.8463 - val_accuracy: 0.5857\n",
      "Epoch 3/30\n",
      "7352/7352 [==============================] - 159s 22ms/step - loss: 0.7381 - accuracy: 0.6515 - val_loss: 0.7199 - val_accuracy: 0.6105\n",
      "Epoch 4/30\n",
      "7352/7352 [==============================] - 204s 28ms/step - loss: 0.6682 - accuracy: 0.7005 - val_loss: 0.6860 - val_accuracy: 0.7065\n",
      "Epoch 5/30\n",
      "7352/7352 [==============================] - 291s 40ms/step - loss: 0.5849 - accuracy: 0.7782 - val_loss: 0.5954 - val_accuracy: 0.7910\n",
      "Epoch 6/30\n",
      "7352/7352 [==============================] - 276s 38ms/step - loss: 0.5090 - accuracy: 0.8277 - val_loss: 0.6676 - val_accuracy: 0.6651\n",
      "Epoch 7/30\n",
      "7352/7352 [==============================] - 274s 37ms/step - loss: 0.3933 - accuracy: 0.8855 - val_loss: 0.3782 - val_accuracy: 0.8578\n",
      "Epoch 8/30\n",
      "7352/7352 [==============================] - 306s 42ms/step - loss: 0.2963 - accuracy: 0.9117 - val_loss: 0.4029 - val_accuracy: 0.9030\n",
      "Epoch 9/30\n",
      "7352/7352 [==============================] - 282s 38ms/step - loss: 0.2917 - accuracy: 0.9113 - val_loss: 0.3223 - val_accuracy: 0.8744\n",
      "Epoch 10/30\n",
      "7352/7352 [==============================] - 171s 23ms/step - loss: 0.2523 - accuracy: 0.9266 - val_loss: 0.5067 - val_accuracy: 0.8772\n",
      "Epoch 11/30\n",
      "7352/7352 [==============================] - 207s 28ms/step - loss: 0.2421 - accuracy: 0.9280 - val_loss: 0.2874 - val_accuracy: 0.9053\n",
      "Epoch 12/30\n",
      "7352/7352 [==============================] - 238s 32ms/step - loss: 0.2170 - accuracy: 0.9342 - val_loss: 0.2411 - val_accuracy: 0.9162\n",
      "Epoch 13/30\n",
      "7352/7352 [==============================] - 182s 25ms/step - loss: 0.2025 - accuracy: 0.9393 - val_loss: 0.3195 - val_accuracy: 0.9169\n",
      "Epoch 14/30\n",
      "7352/7352 [==============================] - 188s 26ms/step - loss: 0.2021 - accuracy: 0.9365 - val_loss: 0.2639 - val_accuracy: 0.9230\n",
      "Epoch 15/30\n",
      "7352/7352 [==============================] - 183s 25ms/step - loss: 0.2358 - accuracy: 0.9306 - val_loss: 0.3108 - val_accuracy: 0.9023\n",
      "Epoch 16/30\n",
      "7352/7352 [==============================] - 183s 25ms/step - loss: 0.1814 - accuracy: 0.9421 - val_loss: 0.3025 - val_accuracy: 0.9175\n",
      "Epoch 17/30\n",
      "7352/7352 [==============================] - 186s 25ms/step - loss: 0.1823 - accuracy: 0.9393 - val_loss: 0.3004 - val_accuracy: 0.9036\n",
      "Epoch 18/30\n",
      "7352/7352 [==============================] - 185s 25ms/step - loss: 0.1694 - accuracy: 0.9445 - val_loss: 0.3888 - val_accuracy: 0.9070\n",
      "Epoch 19/30\n",
      "7352/7352 [==============================] - 202s 27ms/step - loss: 0.1803 - accuracy: 0.9408 - val_loss: 0.2800 - val_accuracy: 0.9118\n",
      "Epoch 20/30\n",
      "7352/7352 [==============================] - 228s 31ms/step - loss: 0.1631 - accuracy: 0.9448 - val_loss: 0.3290 - val_accuracy: 0.9084\n",
      "Epoch 21/30\n",
      "7352/7352 [==============================] - 241s 33ms/step - loss: 0.1841 - accuracy: 0.9406 - val_loss: 0.3720 - val_accuracy: 0.9097\n",
      "Epoch 22/30\n",
      "7352/7352 [==============================] - 198s 27ms/step - loss: 0.1584 - accuracy: 0.9470 - val_loss: 0.3928 - val_accuracy: 0.9135\n",
      "Epoch 23/30\n",
      "7352/7352 [==============================] - 196s 27ms/step - loss: 0.1716 - accuracy: 0.9414 - val_loss: 0.3335 - val_accuracy: 0.9094\n",
      "Epoch 24/30\n",
      "7352/7352 [==============================] - 199s 27ms/step - loss: 0.1612 - accuracy: 0.9445 - val_loss: 0.3326 - val_accuracy: 0.9182\n",
      "Epoch 25/30\n",
      "7352/7352 [==============================] - 176s 24ms/step - loss: 0.1533 - accuracy: 0.9472 - val_loss: 0.3555 - val_accuracy: 0.9074\n",
      "Epoch 26/30\n",
      "7352/7352 [==============================] - 180s 24ms/step - loss: 0.1462 - accuracy: 0.9498 - val_loss: 0.4300 - val_accuracy: 0.9094\n",
      "Epoch 27/30\n",
      "7352/7352 [==============================] - 180s 24ms/step - loss: 0.2310 - accuracy: 0.9406 - val_loss: 0.4702 - val_accuracy: 0.9162\n",
      "Epoch 28/30\n",
      "7352/7352 [==============================] - 179s 24ms/step - loss: 0.1475 - accuracy: 0.9467 - val_loss: 0.2552 - val_accuracy: 0.9155\n",
      "Epoch 29/30\n",
      "7352/7352 [==============================] - 164s 22ms/step - loss: 0.1756 - accuracy: 0.9486 - val_loss: 0.5594 - val_accuracy: 0.8968\n",
      "Epoch 30/30\n",
      "7352/7352 [==============================] - 162s 22ms/step - loss: 0.1704 - accuracy: 0.9484 - val_loss: 0.4978 - val_accuracy: 0.9108\n"
     ]
    },
    {
     "data": {
      "text/plain": [
       "<keras.callbacks.callbacks.History at 0x1ca8e4c4c50>"
      ]
     },
     "execution_count": 85,
     "metadata": {},
     "output_type": "execute_result"
    }
   ],
   "source": [
    "# Training the model\n",
    "model.fit(X_train,\n",
    "          Y_train,\n",
    "          batch_size=batch_size,\n",
    "          validation_data=(X_test, Y_test),\n",
    "          epochs=epochs)"
   ]
  },
  {
   "cell_type": "code",
   "execution_count": 86,
   "metadata": {},
   "outputs": [
    {
     "name": "stdout",
     "output_type": "stream",
     "text": [
      "Pred                LAYING  SITTING  STANDING  WALKING  WALKING_DOWNSTAIRS  \\\n",
      "True                                                                         \n",
      "LAYING                 510        0        27        0                   0   \n",
      "SITTING                  0      392        96        2                   0   \n",
      "STANDING                 0       67       456        9                   0   \n",
      "WALKING                  0        0         0      473                   8   \n",
      "WALKING_DOWNSTAIRS       0        0         0       11                 406   \n",
      "WALKING_UPSTAIRS         0        1         0       10                  13   \n",
      "\n",
      "Pred                WALKING_UPSTAIRS  \n",
      "True                                  \n",
      "LAYING                             0  \n",
      "SITTING                            1  \n",
      "STANDING                           0  \n",
      "WALKING                           15  \n",
      "WALKING_DOWNSTAIRS                 3  \n",
      "WALKING_UPSTAIRS                 447  \n"
     ]
    }
   ],
   "source": [
    "# Confusion Matrix\n",
    "print(confusion_matrix(Y_test, model.predict(X_test)))"
   ]
  },
  {
   "cell_type": "code",
   "execution_count": 87,
   "metadata": {},
   "outputs": [
    {
     "name": "stdout",
     "output_type": "stream",
     "text": [
      "2947/2947 [==============================] - 10s 3ms/step\n"
     ]
    }
   ],
   "source": [
    "score = model.evaluate(X_test, Y_test)"
   ]
  },
  {
   "cell_type": "code",
   "execution_count": 88,
   "metadata": {
    "scrolled": true
   },
   "outputs": [
    {
     "data": {
      "text/plain": [
       "[0.4977966246420733, 0.9107567071914673]"
      ]
     },
     "execution_count": 88,
     "metadata": {},
     "output_type": "execute_result"
    }
   ],
   "source": [
    "score"
   ]
  },
  {
   "cell_type": "markdown",
   "metadata": {},
   "source": [
    "## model-6:LSTM(90)+BN+Dropout(0.2)+LSTM(45)+BN+Dropout(0.2)"
   ]
  },
  {
   "cell_type": "code",
   "execution_count": 59,
   "metadata": {},
   "outputs": [
    {
     "name": "stdout",
     "output_type": "stream",
     "text": [
      "Model Summary: \n",
      "Model: \"sequential_11\"\n",
      "_________________________________________________________________\n",
      "Layer (type)                 Output Shape              Param #   \n",
      "=================================================================\n",
      "lstm_23 (LSTM)               (None, 128, 90)           36000     \n",
      "_________________________________________________________________\n",
      "batch_normalization_5 (Batch (None, 128, 90)           360       \n",
      "_________________________________________________________________\n",
      "dropout_16 (Dropout)         (None, 128, 90)           0         \n",
      "_________________________________________________________________\n",
      "lstm_24 (LSTM)               (None, 45)                24480     \n",
      "_________________________________________________________________\n",
      "batch_normalization_6 (Batch (None, 45)                180       \n",
      "_________________________________________________________________\n",
      "dropout_17 (Dropout)         (None, 45)                0         \n",
      "_________________________________________________________________\n",
      "dense_7 (Dense)              (None, 6)                 276       \n",
      "=================================================================\n",
      "Total params: 61,296\n",
      "Trainable params: 61,026\n",
      "Non-trainable params: 270\n",
      "_________________________________________________________________\n"
     ]
    }
   ],
   "source": [
    "model = Sequential()\n",
    "model.add(LSTM(90, input_shape=(timesteps, input_dim), kernel_initializer='glorot_normal' , return_sequences=True, bias_regularizer=reg))\n",
    "model.add(BatchNormalization())\n",
    "model.add(Dropout(0.2))\n",
    "model.add(LSTM(45))\n",
    "model.add(BatchNormalization())\n",
    "model.add(Dropout(0.2))\n",
    "model.add(Dense(n_classes, activation='sigmoid'))\n",
    "print(\"Model Summary: \")\n",
    "model.summary()"
   ]
  },
  {
   "cell_type": "code",
   "execution_count": 60,
   "metadata": {},
   "outputs": [],
   "source": [
    "# Compiling the model\n",
    "model.compile(loss='binary_crossentropy',\n",
    "              optimizer='rmsprop',\n",
    "              metrics=['accuracy'])\n"
   ]
  },
  {
   "cell_type": "code",
   "execution_count": 61,
   "metadata": {},
   "outputs": [
    {
     "name": "stdout",
     "output_type": "stream",
     "text": [
      "Train on 7352 samples, validate on 2947 samples\n",
      "Epoch 1/20\n",
      "7352/7352 [==============================] - 94s 13ms/step - loss: 1.5275 - accuracy: 0.8838 - val_loss: 1.0169 - val_accuracy: 0.8931\n",
      "Epoch 2/20\n",
      "7352/7352 [==============================] - 92s 13ms/step - loss: 0.4774 - accuracy: 0.9718 - val_loss: 0.1813 - val_accuracy: 0.9706\n",
      "Epoch 3/20\n",
      "7352/7352 [==============================] - 92s 12ms/step - loss: 0.0760 - accuracy: 0.9772 - val_loss: 0.0883 - val_accuracy: 0.9716\n",
      "Epoch 4/20\n",
      "7352/7352 [==============================] - 92s 12ms/step - loss: 0.0614 - accuracy: 0.9785 - val_loss: 0.0758 - val_accuracy: 0.9730\n",
      "Epoch 5/20\n",
      "7352/7352 [==============================] - 92s 12ms/step - loss: 0.0595 - accuracy: 0.9784 - val_loss: 0.1108 - val_accuracy: 0.9709\n",
      "Epoch 6/20\n",
      "7352/7352 [==============================] - 92s 13ms/step - loss: 0.0581 - accuracy: 0.9784 - val_loss: 0.0693 - val_accuracy: 0.9793\n",
      "Epoch 7/20\n",
      "7352/7352 [==============================] - 91s 12ms/step - loss: 0.0578 - accuracy: 0.9788 - val_loss: 0.0984 - val_accuracy: 0.9691\n",
      "Epoch 8/20\n",
      "7352/7352 [==============================] - 92s 12ms/step - loss: 0.0545 - accuracy: 0.9812 - val_loss: 0.0861 - val_accuracy: 0.9738\n",
      "Epoch 9/20\n",
      "7352/7352 [==============================] - 92s 13ms/step - loss: 0.0508 - accuracy: 0.9811 - val_loss: 0.1134 - val_accuracy: 0.9697\n",
      "Epoch 10/20\n",
      "7352/7352 [==============================] - 93s 13ms/step - loss: 0.0538 - accuracy: 0.9806 - val_loss: 0.1183 - val_accuracy: 0.9710\n",
      "Epoch 11/20\n",
      "7352/7352 [==============================] - 92s 12ms/step - loss: 0.0541 - accuracy: 0.9803 - val_loss: 0.1059 - val_accuracy: 0.9699\n",
      "Epoch 12/20\n",
      "7352/7352 [==============================] - 91s 12ms/step - loss: 0.0502 - accuracy: 0.9806 - val_loss: 0.1324 - val_accuracy: 0.9699\n",
      "Epoch 13/20\n",
      "7352/7352 [==============================] - 92s 12ms/step - loss: 0.0507 - accuracy: 0.9818 - val_loss: 0.1259 - val_accuracy: 0.9666\n",
      "Epoch 14/20\n",
      "7352/7352 [==============================] - 91s 12ms/step - loss: 0.0518 - accuracy: 0.9813 - val_loss: 0.1268 - val_accuracy: 0.9718\n",
      "Epoch 15/20\n",
      "7352/7352 [==============================] - 298s 41ms/step - loss: 0.0507 - accuracy: 0.9817 - val_loss: 0.1339 - val_accuracy: 0.9732\n",
      "Epoch 16/20\n",
      "7352/7352 [==============================] - 301s 41ms/step - loss: 0.0492 - accuracy: 0.9827 - val_loss: 0.0941 - val_accuracy: 0.9750\n",
      "Epoch 17/20\n",
      "7352/7352 [==============================] - 300s 41ms/step - loss: 0.0507 - accuracy: 0.9816 - val_loss: 0.1061 - val_accuracy: 0.9742\n",
      "Epoch 18/20\n",
      "7352/7352 [==============================] - 4238s 576ms/step - loss: 0.0489 - accuracy: 0.9823 - val_loss: 0.1266 - val_accuracy: 0.9703\n",
      "Epoch 19/20\n",
      "7352/7352 [==============================] - 289s 39ms/step - loss: 0.0513 - accuracy: 0.9823 - val_loss: 0.0920 - val_accuracy: 0.9768\n",
      "Epoch 20/20\n",
      "7352/7352 [==============================] - 289s 39ms/step - loss: 0.0508 - accuracy: 0.9815 - val_loss: 0.1068 - val_accuracy: 0.9760\n"
     ]
    },
    {
     "data": {
      "text/plain": [
       "<keras.callbacks.callbacks.History at 0x1ca86434ba8>"
      ]
     },
     "execution_count": 61,
     "metadata": {},
     "output_type": "execute_result"
    }
   ],
   "source": [
    "# Training the model\n",
    "model.fit(X_train,\n",
    "          Y_train,\n",
    "          batch_size=batch_size,\n",
    "          validation_data=(X_test, Y_test),\n",
    "          epochs=20)"
   ]
  },
  {
   "cell_type": "code",
   "execution_count": 62,
   "metadata": {},
   "outputs": [
    {
     "name": "stdout",
     "output_type": "stream",
     "text": [
      "Pred                LAYING  SITTING  STANDING  WALKING  WALKING_DOWNSTAIRS  \\\n",
      "True                                                                         \n",
      "LAYING                 537        0         0        0                   0   \n",
      "SITTING                  0      408        80        0                   0   \n",
      "STANDING                 0       81       451        0                   0   \n",
      "WALKING                  0        0         0      491                   0   \n",
      "WALKING_DOWNSTAIRS       0        0         0       12                 396   \n",
      "WALKING_UPSTAIRS         0        0         1        7                  12   \n",
      "\n",
      "Pred                WALKING_UPSTAIRS  \n",
      "True                                  \n",
      "LAYING                             0  \n",
      "SITTING                            3  \n",
      "STANDING                           0  \n",
      "WALKING                            5  \n",
      "WALKING_DOWNSTAIRS                12  \n",
      "WALKING_UPSTAIRS                 451  \n"
     ]
    }
   ],
   "source": [
    "# Confusion Matrix\n",
    "print(confusion_matrix(Y_test, model.predict(X_test)))"
   ]
  },
  {
   "cell_type": "code",
   "execution_count": 63,
   "metadata": {},
   "outputs": [
    {
     "name": "stdout",
     "output_type": "stream",
     "text": [
      "2947/2947 [==============================] - 20s 7ms/step\n"
     ]
    }
   ],
   "source": [
    "score = model.evaluate(X_test, Y_test)"
   ]
  },
  {
   "cell_type": "code",
   "execution_count": 64,
   "metadata": {},
   "outputs": [
    {
     "data": {
      "text/plain": [
       "[0.10677718073892851, 0.9760208129882812]"
      ]
     },
     "execution_count": 64,
     "metadata": {},
     "output_type": "execute_result"
    }
   ],
   "source": [
    "score"
   ]
  },
  {
   "cell_type": "markdown",
   "metadata": {},
   "source": [
    "# Conclusion"
   ]
  },
  {
   "cell_type": "code",
   "execution_count": 90,
   "metadata": {},
   "outputs": [
    {
     "name": "stdout",
     "output_type": "stream",
     "text": [
      "+-------+-------------------------+-----+----------+---------------------+--------------------+\n",
      "| Model |       LSTM Layers       |  BN | Dropout  |      Test loss      |   Test Accuracy    |\n",
      "+-------+-------------------------+-----+----------+---------------------+--------------------+\n",
      "|   1   |   1 Layer of LSTM(38)   |  No | Yes(0.5) | 0.25677269414946985 | 0.9246691465377808 |\n",
      "|   2   | 2 layers of LSTM(55,30) | Yes | Yes(0.8) |  0.3928260555393516 | 0.898201584815979  |\n",
      "|   3   | 2 Layers of LSTM(70,35) |  No | Yes(0.6) |  0.6772659795652995 | 0.8883610367774963 |\n",
      "|   4   | 2 Layer of LSTM(120,60) | Yes |    No    | 0.07902003169861822 | 0.9744372367858887 |\n",
      "|   5   |   1 layer of LSTM(90)   |  No | Yes(0.7) |  0.4977966246420733 | 0.9107567071914673 |\n",
      "|   6   | 2 layers of LSTM(90,45) | Yes | Yes(0.2) | 0.10677718073892851 | 0.9760208129882812 |\n",
      "+-------+-------------------------+-----+----------+---------------------+--------------------+\n"
     ]
    }
   ],
   "source": [
    "from prettytable import PrettyTable\n",
    "\n",
    "x = PrettyTable()\n",
    "\n",
    "x.field_names = [\"Model\",\"LSTM Layers\",\"BN\",\"Dropout\", \"Test loss\", \"Test Accuracy\"]\n",
    "\n",
    "x.add_row([\"1\",\"1 Layer of LSTM(38)\",\"No\",\"Yes(0.5)\",\"0.25677269414946985\", \"0.9246691465377808\"])\n",
    "\n",
    "x.add_row([\"2\",\"2 layers of LSTM(55,30)\", \"Yes\", \"Yes(0.8)\",\"0.3928260555393516\", \"0.898201584815979\"])\n",
    "\n",
    "x.add_row([\"3\",\"2 Layers of LSTM(70,35)\",\"No\",\"Yes(0.6)\",\"0.6772659795652995\", \"0.8883610367774963\"])\n",
    "\n",
    "x.add_row([\"4\",\"2 Layer of LSTM(120,60)\",\"Yes\",\"No\",\"0.07902003169861822\", \"0.9744372367858887\"])\n",
    "\n",
    "x.add_row([\"5\",\"1 layer of LSTM(90)\",\"No\",\"Yes(0.7)\", \"0.4977966246420733\",\"0.9107567071914673\"])\n",
    "\n",
    "x.add_row([\"6\",\"2 layers of LSTM(90,45)\", \"Yes\", \"Yes(0.2)\",\"0.10677718073892851\", \"0.9760208129882812\"])\n",
    "\n",
    "print(x)"
   ]
  },
  {
   "cell_type": "code",
   "execution_count": null,
   "metadata": {},
   "outputs": [],
   "source": []
  }
 ],
 "metadata": {
  "kernelspec": {
   "display_name": "Python 3",
   "language": "python",
   "name": "python3"
  },
  "language_info": {
   "codemirror_mode": {
    "name": "ipython",
    "version": 3
   },
   "file_extension": ".py",
   "mimetype": "text/x-python",
   "name": "python",
   "nbconvert_exporter": "python",
   "pygments_lexer": "ipython3",
   "version": "3.7.3"
  }
 },
 "nbformat": 4,
 "nbformat_minor": 2
}
